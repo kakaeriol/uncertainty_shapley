{
 "cells": [
  {
   "cell_type": "code",
   "execution_count": 1,
   "metadata": {
    "scrolled": true
   },
   "outputs": [
    {
     "name": "stdout",
     "output_type": "stream",
     "text": [
      "/external1/nguyenpham/code/Develop_uncertainty/otdd_explore\n"
     ]
    }
   ],
   "source": [
    "# from parallel_uncertainty_framework import uncertainty_framework\n",
    "!pwd"
   ]
  },
  {
   "cell_type": "code",
   "execution_count": 2,
   "metadata": {},
   "outputs": [
    {
     "name": "stderr",
     "output_type": "stream",
     "text": [
      "/home/nguyenpk/miniconda3/envs/resnet_env/lib/python3.9/site-packages/otdd/pytorch/distance.py:23: TqdmWarning: IProgress not found. Please update jupyter and ipywidgets. See https://ipywidgets.readthedocs.io/en/stable/user_install.html\n",
      "  from tqdm.autonotebook import tqdm\n",
      "ot.gpu not found - coupling computation will be in cpu\n"
     ]
    }
   ],
   "source": [
    "home = \"/external1/nguyenpham/code/\"\n",
    "import ot\n",
    "import otdd\n",
    "import numpy as np\n",
    "from otdd.pytorch.distance import DatasetDistance\n",
    "from torch.utils.data import Dataset\n",
    "from torch.utils.data import DataLoader\n",
    "import torch\n",
    "import pandas as pd\n",
    "import argparse\n",
    "import sys\n",
    "#\n",
    "torch.cuda.set_device(1)\n",
    "import math\n",
    "\n",
    "sys.path.append(f\"{home}/Develop_uncertainty/our_method\")\n",
    "from my_gpytorch import settings\n",
    "from my_gpytorch import utils\n",
    "from my_gpytorch.kernels import *\n",
    "from my_gpytorch.mymodels import *\n",
    "from uncertainty_framework import uncertainty_framework"
   ]
  },
  {
   "cell_type": "code",
   "execution_count": 3,
   "metadata": {},
   "outputs": [],
   "source": [
    "### check kernel distance\n",
    "import sklearn\n",
    "import numpy as np\n",
    "from sklearn.datasets import make_moons , make_circles,make_blobs\n",
    "from sklearn.metrics import pairwise\n",
    "from sklearn.metrics import classification_report, confusion_matrix, auc, accuracy_score\n",
    "from sklearn.model_selection import train_test_split\n",
    "from matplotlib import pyplot as plt\n",
    "from sklearn.cluster import kmeans_plusplus\n",
    "#\n",
    "from sklearn.metrics import classification_report, confusion_matrix, auc, accuracy_score\n",
    "from sklearn.preprocessing import LabelEncoder\n",
    "# from xgboost import XGBClassifier\n",
    "import numpy as np\n",
    "import matplotlib.font_manager as font_manager\n"
   ]
  },
  {
   "cell_type": "markdown",
   "metadata": {},
   "source": [
    "### CIFAR DATASET\n"
   ]
  },
  {
   "cell_type": "code",
   "execution_count": 7,
   "metadata": {},
   "outputs": [],
   "source": [
    "def split_dataset_non_iid(dataset, num_splits, num_classes_per_split=2):\n",
    "    \"\"\"\n",
    "    Splits the dataset into non-IID subsets where each subset contains specific classes.\n",
    "\n",
    "    Args:\n",
    "        dataset (torch.utils.data.Dataset): The dataset to split.\n",
    "        num_splits (int): Number of splits/parties.\n",
    "        num_classes_per_split (int): Number of classes per split.\n",
    "\n",
    "    Returns:\n",
    "        List[Subset]: A list containing the split subsets.\n",
    "    \"\"\"\n",
    "    targets = np.array(dataset.targets)\n",
    "    classes = np.unique(targets)\n",
    "    np.random.shuffle(classes)\n",
    "\n",
    "    classes_per_split = np.array_split(classes, num_splits)\n",
    "    splits_indices = []\n",
    "\n",
    "    for split_classes in classes_per_split:\n",
    "        indices = np.where(np.isin(targets, split_classes))[0]\n",
    "        np.random.shuffle(indices)\n",
    "        splits_indices.append(indices)\n",
    "\n",
    "    splits = [Subset(dataset, indices) for indices in splits_indices]\n",
    "    return splits\n",
    "\n",
    "# Example usage for non-IID split\n",
    "# train_splits_non_iid = split_dataset_non_iid(train_dataset, NUM_PARTIES, num_classes_per_split=2)\n",
    "# train_loaders_non_iid = [DataLoader(split, batch_size=BATCH_SIZE, shuffle=True) for split in train_splits_non_iid]"
   ]
  },
  {
   "cell_type": "code",
   "execution_count": 11,
   "metadata": {},
   "outputs": [
    {
     "name": "stdout",
     "output_type": "stream",
     "text": [
      "Files already downloaded and verified\n",
      "Files already downloaded and verified\n"
     ]
    }
   ],
   "source": [
    "import torch\n",
    "from torchvision import datasets, transforms\n",
    "from torch.utils.data import DataLoader, Subset\n",
    "import numpy as np\n",
    "import os\n",
    "\n",
    "# Parameters\n",
    "NUM_PARTIES = 8\n",
    "BATCH_SIZE = 64\n",
    "# DATA_DIR = './data'\n",
    "SEED = 42\n",
    "\n",
    "# Set random seed for reproducibility\n",
    "torch.manual_seed(SEED)\n",
    "np.random.seed(SEED)\n",
    "\n",
    "# Define transformations for the dataset\n",
    "transform = transforms.Compose([\n",
    "    transforms.ToTensor(),\n",
    "    transforms.Normalize((0.4914, 0.4822, 0.4465),  # CIFAR-10 mean\n",
    "                         (0.2023, 0.1994, 0.2010))  # CIFAR-10 std\n",
    "])\n",
    "\n",
    "# Load CIFAR-10 training dataset\n",
    "train_dataset = datasets.CIFAR10(root=DATA_DIR, train=True, download=True, transform=transform)\n",
    "\n",
    "# Optionally, load the test dataset\n",
    "test_dataset = datasets.CIFAR10(root=DATA_DIR, train=False, download=True, transform=transform)\n",
    "\n",
    "def create_idx_party_mapping(splits, total_size):\n",
    "    \"\"\"\n",
    "    Creates a mapping from each data sample to its party index.\n",
    "\n",
    "    Args:\n",
    "        splits (List[List[int]]): List of index lists for each party.\n",
    "        total_size (int): Total number of samples in the dataset.\n",
    "\n",
    "    Returns:\n",
    "        np.ndarray: An array where the ith element is the party index for sample i.\n",
    "    \"\"\"\n",
    "    idx_party = np.zeros(total_size, dtype=int)\n",
    "    for party_idx, party_indices in enumerate(splits):\n",
    "        idx_party[party_indices] = party_idx\n",
    "    return idx_party\n",
    "\n",
    "def split_dataset_by_indices(dataset, num_parties):\n",
    "    \"\"\"\n",
    "    Splits a dataset into `num_parties` subsets by returning the indices for each party.\n",
    "\n",
    "    Args:\n",
    "        dataset (torch.utils.data.Dataset): The dataset to split.\n",
    "        num_parties (int): Number of parties to split the dataset into.\n",
    "\n",
    "    Returns:\n",
    "        List[List[int]]: A list where each element is a list of indices for a party.\n",
    "    \"\"\"\n",
    "    dataset_size = len(dataset)\n",
    "    indices = list(range(dataset_size))\n",
    "    np.random.shuffle(indices)\n",
    "\n",
    "    split_sizes = [dataset_size // num_parties] * num_parties\n",
    "    for i in range(dataset_size % num_parties):\n",
    "        split_sizes[i] += 1\n",
    "\n",
    "    splits = []\n",
    "    start = 0\n",
    "    for size in split_sizes:\n",
    "        end = start + size\n",
    "        splits.append(indices[start:end])\n",
    "        start = end\n",
    "\n",
    "    return create_idx_party_mapping(splits, dataset_size)\n",
    "\n",
    "def split_dataset_non_iid(dataset, num_parties, num_classes_per_party=2):\n",
    "    \"\"\"\n",
    "    Splits the dataset into non-IID subsets where each subset contains specific classes.\n",
    "\n",
    "    Args:\n",
    "        dataset (torch.utils.data.Dataset): The dataset to split.\n",
    "        num_parties (int): Number of parties to split the dataset into.\n",
    "        num_classes_per_party (int): Number of unique classes per party.\n",
    "\n",
    "    Returns:\n",
    "        List[List[int]]: A list where each element is a list of indices for a party.\n",
    "    \"\"\"\n",
    "    dataset_size = len(dataset)\n",
    "    targets = np.array(dataset.targets)\n",
    "    classes = np.unique(targets)\n",
    "    np.random.shuffle(classes)\n",
    "\n",
    "    # Ensure that the number of classes per party does not exceed total classes\n",
    "    assert num_parties * num_classes_per_party <= len(classes), \"Not enough classes for the specified split.\"\n",
    "\n",
    "    splits = []\n",
    "    for i in range(num_parties):\n",
    "        selected_classes = classes[i*num_classes_per_party:(i+1)*num_classes_per_party]\n",
    "        indices = np.where(np.isin(targets, selected_classes))[0]\n",
    "        np.random.shuffle(indices)\n",
    "        splits.append(indices.tolist())\n",
    "\n",
    "    return create_idx_party_mapping(splits, dataset_size)\n",
    "\n",
    "# Split the training dataset\n",
    "# idx_ = split_dataset_by_indices(train_dataset, NUM_PARTIES)\n",
    "\n"
   ]
  },
  {
   "cell_type": "code",
   "execution_count": 29,
   "metadata": {},
   "outputs": [],
   "source": [
    "idx1 = split_dataset_non_iid(train_dataset,\n",
    "                             NUM_PARTIES, \n",
    "                             num_classes_per_party=1)"
   ]
  },
  {
   "cell_type": "code",
   "execution_count": 23,
   "metadata": {},
   "outputs": [],
   "source": [
    "ds = {}"
   ]
  },
  {
   "cell_type": "code",
   "execution_count": 24,
   "metadata": {},
   "outputs": [],
   "source": [
    "ds['X_train'] = train_dataset.data\n",
    "ds['y_train'] = train_dataset.targets\n",
    "ds[\"X_val\"] = test_dataset.data\n",
    "ds[\"y_val\"] = test_dataset.targets\n",
    "ds[\"v_value\"] = None\n",
    "ds[\"idx_party\"] = idx_\n",
    "pd.to_pickle(ds,\"/external1/nguyenpham/code/uncertainty_shapley/data/cifar_iid_8.pickle\") "
   ]
  },
  {
   "cell_type": "code",
   "execution_count": 36,
   "metadata": {},
   "outputs": [],
   "source": [
    "ds['X_train'] = train_dataset.data\n",
    "ds['y_train'] = train_dataset.targets\n",
    "ds[\"X_val\"] = test_dataset.data\n",
    "ds[\"y_val\"] = test_dataset.targets\n",
    "ds[\"v_value\"] = None\n",
    "ds[\"idx_party\"] = idx1\n",
    "pd.to_pickle(ds,\"/external1/nguyenpham/code/uncertainty_shapley/data/cifar_class_8.pickle\") "
   ]
  },
  {
   "cell_type": "code",
   "execution_count": 10,
   "metadata": {},
   "outputs": [],
   "source": [
    "import torch\n",
    "from torch.utils.data import Dataset, DataLoader, Subset\n",
    "from sklearn.datasets import fetch_california_housing\n",
    "from sklearn.preprocessing import StandardScaler\n",
    "import numpy as np\n",
    "import os\n",
    "\n",
    "# Parameters\n",
    "NUM_PARTIES = 8\n",
    "BATCH_SIZE = 64\n",
    "DATA_DIR = './data'\n",
    "SEED = 42\n",
    "\n",
    "# Set random seed for reproducibility\n",
    "torch.manual_seed(SEED)\n",
    "np.random.seed(SEED)\n",
    "\n",
    "# Define a custom PyTorch Dataset for California Housing\n",
    "class CaliforniaHousingDataset(Dataset):\n",
    "    def __init__(self, features, targets, transform=None):\n",
    "        \"\"\"\n",
    "        Args:\n",
    "            features (np.ndarray): Feature matrix.\n",
    "            targets (np.ndarray): Target vector.\n",
    "            transform (callable, optional): Optional transform to be applied\n",
    "                on a sample.\n",
    "        \"\"\"\n",
    "        self.data = features\n",
    "        self.targets = targets\n",
    "        self.transform = transform\n",
    "\n",
    "    def __len__(self):\n",
    "        return len(self.targets)\n",
    "\n",
    "    def __getitem__(self, idx):\n",
    "        sample = {\n",
    "            'feature': torch.tensor(self.features[idx], dtype=torch.float32),\n",
    "            'target': torch.tensor(self.targets[idx], dtype=torch.float32)\n",
    "        }\n",
    "\n",
    "        if self.transform:\n",
    "            sample = self.transform(sample)\n",
    "\n",
    "        return sample\n",
    "\n",
    "def load_and_prepare_data():\n",
    "    \"\"\"\n",
    "    Loads the California Housing dataset and preprocesses it.\n",
    "\n",
    "    Returns:\n",
    "        train_dataset (CaliforniaHousingDataset): Training dataset.\n",
    "        test_dataset (CaliforniaHousingDataset): Test dataset.\n",
    "    \"\"\"\n",
    "    # Fetch the California Housing dataset\n",
    "    housing = fetch_california_housing()\n",
    "    X, y = housing.data, housing.target\n",
    "\n",
    "    # Split into training and testing sets (e.g., 80-20 split)\n",
    "    from sklearn.model_selection import train_test_split\n",
    "    X_train, X_test, y_train, y_test = train_test_split(\n",
    "        X, y, test_size=0.2, random_state=SEED\n",
    "    )\n",
    "\n",
    "    # Feature scaling (Standardization)\n",
    "    scaler = StandardScaler()\n",
    "    target_scaler = StandardScaler()\n",
    "    X_train = scaler.fit_transform(X_train)\n",
    "    X_test = scaler.transform(X_test)\n",
    "\n",
    "    y_train_scaled = target_scaler.fit_transform(y_train.reshape(-1, 1)).flatten()\n",
    "    y_test_scaled = target_scaler.transform(y_test.reshape(-1, 1)).flatten()\n",
    "\n",
    "\n",
    "    # Create custom datasets\n",
    "    train_dataset = CaliforniaHousingDataset(X_train, y_train_scaled)\n",
    "    test_dataset = CaliforniaHousingDataset(X_test, y_test_scaled)\n",
    "\n",
    "    return train_dataset, test_dataset"
   ]
  },
  {
   "cell_type": "code",
   "execution_count": 112,
   "metadata": {},
   "outputs": [],
   "source": [
    "train_dataset, test_dataset = load_and_prepare_data()\n",
    "idx_ = split_dataset_by_indices(train_dataset, NUM_PARTIES)\n",
    "\n",
    "ds['X_train'] = train_dataset.data\n",
    "ds['y_train'] = train_dataset.targets\n",
    "ds[\"X_val\"] = test_dataset.data\n",
    "ds[\"y_val\"] = test_dataset.targets\n",
    "ds[\"v_value\"] = None\n",
    "ds[\"idx_party\"] = idx_\n",
    "pd.to_pickle(ds,\"/external1/nguyenpham/code/uncertainty_shapley/data/calihouse_iid_8.pickle\") "
   ]
  },
  {
   "cell_type": "code",
   "execution_count": 113,
   "metadata": {},
   "outputs": [],
   "source": [
    "NUM_PARTIES = 3\n",
    "train_dataset, test_dataset = load_and_prepare_data()\n",
    "idx_ = split_dataset_by_indices(train_dataset, NUM_PARTIES)\n",
    "\n",
    "ds['X_train'] = train_dataset.data\n",
    "ds['y_train'] = train_dataset.targets\n",
    "ds[\"X_val\"] = test_dataset.data\n",
    "ds[\"y_val\"] = test_dataset.targets\n",
    "ds[\"v_value\"] = None\n",
    "ds[\"idx_party\"] = idx_\n",
    "pd.to_pickle(ds,\"/external1/nguyenpham/code/uncertainty_shapley/data/calihouse_iid_3.pickle\") "
   ]
  },
  {
   "cell_type": "markdown",
   "metadata": {},
   "source": [
    "## MNIST"
   ]
  },
  {
   "cell_type": "code",
   "execution_count": 24,
   "metadata": {},
   "outputs": [],
   "source": [
    "DATA_DIR=\"/external1/nguyenpham/code/uncertainty_shapley/data\""
   ]
  },
  {
   "cell_type": "code",
   "execution_count": 25,
   "metadata": {},
   "outputs": [
    {
     "name": "stdout",
     "output_type": "stream",
     "text": [
      "Downloading http://yann.lecun.com/exdb/mnist/train-images-idx3-ubyte.gz\n",
      "Using downloaded and verified file: /external1/nguyenpham/code/uncertainty_shapley/data/MNIST/raw/train-images-idx3-ubyte.gz\n",
      "Extracting /external1/nguyenpham/code/uncertainty_shapley/data/MNIST/raw/train-images-idx3-ubyte.gz to /external1/nguyenpham/code/uncertainty_shapley/data/MNIST/raw\n",
      "\n",
      "Downloading http://yann.lecun.com/exdb/mnist/train-labels-idx1-ubyte.gz\n",
      "Using downloaded and verified file: /external1/nguyenpham/code/uncertainty_shapley/data/MNIST/raw/train-labels-idx1-ubyte.gz\n",
      "Extracting /external1/nguyenpham/code/uncertainty_shapley/data/MNIST/raw/train-labels-idx1-ubyte.gz to /external1/nguyenpham/code/uncertainty_shapley/data/MNIST/raw\n",
      "\n",
      "Downloading http://yann.lecun.com/exdb/mnist/t10k-images-idx3-ubyte.gz\n",
      "Using downloaded and verified file: /external1/nguyenpham/code/uncertainty_shapley/data/MNIST/raw/t10k-images-idx3-ubyte.gz\n",
      "Extracting /external1/nguyenpham/code/uncertainty_shapley/data/MNIST/raw/t10k-images-idx3-ubyte.gz to /external1/nguyenpham/code/uncertainty_shapley/data/MNIST/raw\n",
      "\n",
      "Downloading http://yann.lecun.com/exdb/mnist/t10k-labels-idx1-ubyte.gz\n",
      "Failed to download (trying next):\n",
      "HTTP Error 403: Forbidden\n",
      "\n",
      "Downloading https://ossci-datasets.s3.amazonaws.com/mnist/t10k-labels-idx1-ubyte.gz\n",
      "Downloading https://ossci-datasets.s3.amazonaws.com/mnist/t10k-labels-idx1-ubyte.gz to /external1/nguyenpham/code/uncertainty_shapley/data/MNIST/raw/t10k-labels-idx1-ubyte.gz\n"
     ]
    },
    {
     "name": "stderr",
     "output_type": "stream",
     "text": [
      "100%|██████████████████████████████████████████████████████████████████████████████████████████████████████████████████████████████████████████████████████████████████████████████████████████████████████████| 4542/4542 [00:00<00:00, 1887125.19it/s]\n"
     ]
    },
    {
     "name": "stdout",
     "output_type": "stream",
     "text": [
      "Extracting /external1/nguyenpham/code/uncertainty_shapley/data/MNIST/raw/t10k-labels-idx1-ubyte.gz to /external1/nguyenpham/code/uncertainty_shapley/data/MNIST/raw\n",
      "\n"
     ]
    }
   ],
   "source": [
    "NUM_PARTIES = 6\n",
    "transform1 = transforms.Compose([\n",
    "    transforms.ToTensor(),\n",
    "    transforms.Normalize((0.1307,), (0.3081,)),  # MNIST mean and std\n",
    "])\n",
    "train_dataset = datasets.MNIST(root=DATA_DIR, train=True, download=True, transform=transform1)\n",
    "\n",
    "# Optionally, load the test dataset\n",
    "test_dataset = datasets.MNIST(root=DATA_DIR, train=False, download=True, transform=transform1)\n",
    "\n",
    "idx_ = split_dataset_by_indices(train_dataset, NUM_PARTIES)\n",
    "ds = {}\n",
    "ds['X_train'] = train_dataset.data.double().view(len(train_dataset.targets), -1)\n",
    "ds['y_train'] = train_dataset.targets\n",
    "ds[\"X_val\"] = test_dataset.data.double().view(len(test_dataset.targets), -1)\n",
    "ds[\"y_val\"] = test_dataset.targets\n",
    "ds[\"v_value\"] = None\n",
    "ds[\"idx_party\"] = idx_\n",
    "pd.to_pickle(ds,f\"{DATA_DIR}/mnist_iid_{NUM_PARTIES}.pickle\") "
   ]
  },
  {
   "cell_type": "code",
   "execution_count": 26,
   "metadata": {},
   "outputs": [],
   "source": [
    "idx1 = split_dataset_non_iid(train_dataset,\n",
    "                             NUM_PARTIES, \n",
    "                             num_classes_per_party=1)"
   ]
  },
  {
   "cell_type": "code",
   "execution_count": 31,
   "metadata": {},
   "outputs": [],
   "source": [
    "NUM_PARTIES = 6\n",
    "idx1 = split_dataset_non_iid(train_dataset,\n",
    "                             NUM_PARTIES, \n",
    "                             num_classes_per_party=1)\n",
    "ds = {}\n",
    "ds['X_train'] = train_dataset.data.double().view(len(train_dataset.targets), -1)\n",
    "ds['y_train'] = train_dataset.targets\n",
    "ds[\"X_val\"] = test_dataset.data.double().view(len(test_dataset.targets), -1)\n",
    "ds[\"y_val\"] = test_dataset.targets\n",
    "ds[\"v_value\"] = None\n",
    "ds[\"idx_party\"] = idx1\n",
    "pd.to_pickle(ds,f\"{DATA_DIR}/mnist_non_iid_{NUM_PARTIES}.pickle\") "
   ]
  },
  {
   "cell_type": "code",
   "execution_count": null,
   "metadata": {},
   "outputs": [],
   "source": []
  }
 ],
 "metadata": {
  "kernelspec": {
   "display_name": "my_gp_withres",
   "language": "python",
   "name": "my_gp_withres"
  },
  "language_info": {
   "codemirror_mode": {
    "name": "ipython",
    "version": 3
   },
   "file_extension": ".py",
   "mimetype": "text/x-python",
   "name": "python",
   "nbconvert_exporter": "python",
   "pygments_lexer": "ipython3",
   "version": "3.9.20"
  }
 },
 "nbformat": 4,
 "nbformat_minor": 4
}
